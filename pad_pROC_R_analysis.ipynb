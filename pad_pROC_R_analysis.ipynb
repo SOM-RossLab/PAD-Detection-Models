{
 "cells": [
  {
   "cell_type": "code",
   "execution_count": null,
   "id": "unnecessary-terrorism",
   "metadata": {},
   "outputs": [],
   "source": [
    "library(pROC)"
   ]
  },
  {
   "cell_type": "markdown",
   "id": "worth-crash",
   "metadata": {},
   "source": [
    "## Table 1: Statistical Analysis"
   ]
  },
  {
   "cell_type": "code",
   "execution_count": null,
   "id": "powered-teddy",
   "metadata": {},
   "outputs": [],
   "source": [
    "tab <- matrix(nrow=2,ncol=2, byrow=TRUE)\n",
    "tab[1,1]<-1386   \n",
    "tab[1,2]<-3168 - tab[1,1]\n",
    "tab[2,1]<-9202     \n",
    "tab[2,2]<-16863 - tab[2,1]\n",
    "\n",
    "#add column/rownames optional but help with clarity\n",
    "colnames(tab)<-c('F','M')\n",
    "rownames(tab)<-c('Cases','Control')\n",
    "tab"
   ]
  },
  {
   "cell_type": "code",
   "execution_count": null,
   "id": "native-reporter",
   "metadata": {},
   "outputs": [],
   "source": [
    "chisq.test(tab)"
   ]
  },
  {
   "cell_type": "markdown",
   "id": "scheduled-helen",
   "metadata": {},
   "source": [
    "## Delong test comparison of model AUCs"
   ]
  },
  {
   "cell_type": "markdown",
   "id": "alike-seven",
   "metadata": {},
   "source": [
    "### DL/RF"
   ]
  },
  {
   "cell_type": "code",
   "execution_count": null,
   "id": "embedded-istanbul",
   "metadata": {},
   "outputs": [],
   "source": [
    "#Read person_ids csv file and save duplicate ids\n",
    "fold_num = 1\n",
    "ids <- read.csv(file = paste('preds/testids_fold', fold_num, '.csv', sep = \"\"))\n",
    "ids <- which(duplicated(ids))\n",
    "ids"
   ]
  },
  {
   "cell_type": "code",
   "execution_count": null,
   "id": "bridal-employment",
   "metadata": {},
   "outputs": [],
   "source": [
    "#Remove duplicates from Random Forest RF prediction output\n",
    "x1 <- read.csv(file = paste('preds/testpred_fold', fold_num, '.csv', sep = \"\") )\n",
    "x1 <- x1[-ids, ]"
   ]
  },
  {
   "cell_type": "code",
   "execution_count": null,
   "id": "virtual-momentum",
   "metadata": {},
   "outputs": [],
   "source": [
    "#Remove duplicates from Deep Learning DL prediction output\n",
    "x2 <- read.csv(file = paste('preds/preds_fold', fold_num, '.csv', sep = \"\"))\n",
    "x2 <- x2$X0\n",
    "x2 <- x2[-ids, ]"
   ]
  },
  {
   "cell_type": "code",
   "execution_count": null,
   "id": "finite-tuner",
   "metadata": {},
   "outputs": [],
   "source": [
    "#Merge prediction outputs\n",
    "x <- data.frame(x1,x2)"
   ]
  },
  {
   "cell_type": "code",
   "execution_count": null,
   "id": "married-country",
   "metadata": {},
   "outputs": [],
   "source": [
    "#Create labels dataframe and remove duplicates\n",
    "labels <- read.csv(file = paste('preds/testlabel_fold', fold_num, '.csv', sep = \"\") )\n",
    "labels <- labels[-ids, ]\n",
    "labels <- data.frame(labels)"
   ]
  },
  {
   "cell_type": "code",
   "execution_count": null,
   "id": "fifteen-contract",
   "metadata": {},
   "outputs": [],
   "source": [
    "roc.test(response = labels, predictor1 = x$x1, predictor2 = x$x2)\n"
   ]
  },
  {
   "cell_type": "markdown",
   "id": "maritime-experience",
   "metadata": {},
   "source": [
    "### LR/RF"
   ]
  },
  {
   "cell_type": "code",
   "execution_count": null,
   "id": "exceptional-string",
   "metadata": {},
   "outputs": [],
   "source": [
    "#Read person_ids csv file and save duplicate ids\n",
    "fold_num = 1\n",
    "ids <- read.csv(file = paste('preds/testids_fold', fold_num, '.csv', sep = \"\"))\n",
    "ids <- which(duplicated(ids))\n",
    "ids"
   ]
  },
  {
   "cell_type": "code",
   "execution_count": null,
   "id": "contained-chuck",
   "metadata": {},
   "outputs": [],
   "source": [
    "#Remove duplicates from Random Forest RF prediction output\n",
    "x1 <- read.csv(file = paste('preds/testpred_fold', fold_num, '.csv', sep = \"\") )\n",
    "x1 <- x1[-ids, ]"
   ]
  },
  {
   "cell_type": "code",
   "execution_count": null,
   "id": "twenty-yesterday",
   "metadata": {},
   "outputs": [],
   "source": [
    "#Remove duplicates from Logistic Regression LR prediction output\n",
    "x2 <- read.csv(file = paste('preds/lr_testpred_fold', fold_num, '.csv', sep = \"\"))\n",
    "x2 <- x2[-ids, ]"
   ]
  },
  {
   "cell_type": "code",
   "execution_count": null,
   "id": "closed-night",
   "metadata": {},
   "outputs": [],
   "source": [
    "#Merge prediction outputs\n",
    "x <- data.frame(x1,x2)"
   ]
  },
  {
   "cell_type": "code",
   "execution_count": null,
   "id": "approximate-triumph",
   "metadata": {},
   "outputs": [],
   "source": [
    "#Create labels dataframe and remove duplicates\n",
    "labels <- read.csv(file = paste('preds/testlabel_fold', fold_num, '.csv', sep = \"\") )\n",
    "labels <- labels[-ids, ]\n",
    "labels <- data.frame(labels)"
   ]
  },
  {
   "cell_type": "code",
   "execution_count": null,
   "id": "lonely-mandate",
   "metadata": {},
   "outputs": [],
   "source": [
    "roc.test(response = labels, predictor1 = x$x1, predictor2 = x$test_pred)"
   ]
  },
  {
   "cell_type": "code",
   "execution_count": null,
   "id": "vietnamese-lawyer",
   "metadata": {},
   "outputs": [],
   "source": []
  },
  {
   "cell_type": "code",
   "execution_count": null,
   "id": "selected-collect",
   "metadata": {},
   "outputs": [],
   "source": []
  }
 ],
 "metadata": {
  "environment": {
   "name": "r-cpu.3-6.mnightly-2021-02-02-debian-10-test",
   "type": "gcloud",
   "uri": "gcr.io/deeplearning-platform-release/r-cpu.3-6:mnightly-2021-02-02-debian-10-test"
  },
  "kernelspec": {
   "display_name": "R",
   "language": "R",
   "name": "ir"
  },
  "language_info": {
   "codemirror_mode": "r",
   "file_extension": ".r",
   "mimetype": "text/x-r-source",
   "name": "R",
   "pygments_lexer": "r",
   "version": "3.6.3"
  }
 },
 "nbformat": 4,
 "nbformat_minor": 5
}
