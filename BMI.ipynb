{
 "cells": [
  {
   "cell_type": "code",
   "execution_count": 1,
   "id": "884bbec6",
   "metadata": {},
   "outputs": [
    {
     "name": "stdout",
     "output_type": "stream",
     "text": [
      "The google.cloud.bigquery extension is already loaded. To reload it, use:\n",
      "  %reload_ext google.cloud.bigquery\n"
     ]
    },
    {
     "name": "stderr",
     "output_type": "stream",
     "text": [
      "/opt/conda/lib/python3.7/site-packages/google/auth/_default.py:70: UserWarning: Your application has authenticated using end user credentials from Google Cloud SDK without a quota project. You might receive a \"quota exceeded\" or \"API not enabled\" error. We recommend you rerun `gcloud auth application-default login` and make sure a quota project is added. Or you can use service accounts instead. For more information about service accounts, see https://cloud.google.com/docs/authentication/\n",
      "  warnings.warn(_CLOUD_SDK_CREDENTIALS_WARNING)\n"
     ]
    }
   ],
   "source": [
    "##Setting up the python environment\n",
    "import pandas as pd\n",
    "import os \n",
    "import re\n",
    "from collections import Counter\n",
    "import numpy as np\n",
    "import math\n",
    "import matplotlib.pyplot as plt\n",
    "import string\n",
    "%matplotlib inline \n",
    "import textwrap\n",
    "\n",
    "##Setting up BQ API\n",
    "from google.cloud import bigquery\n",
    "\n",
    "# pd.set_option('display.height', 1000)\n",
    "pd.set_option('display.max_rows', 100)\n",
    "pd.set_option('display.max_columns', 500)\n",
    "pd.set_option('display.width', 1000)\n",
    "\n",
    "\n",
    "##Setting up Google sdk environment\n",
    "os.environ['GOOGLE_APPLICATION_CREDENTIALS'] = '/home/jupyter/.config/gcloud/application_default_credentials.json'\n",
    "## Connect to the right GCP project\n",
    "os.environ['GCLOUD_PROJECT'] = 'som-nero-egyang-starr' \n",
    "%load_ext google.cloud.bigquery\n",
    "client=bigquery.Client()\n",
    "\n",
    "project_id = \"som-rit-phi-starr-prod\"\n",
    "# dataset_id = \"starr_omop_cdm5_deid_1pcent_latest\"\n",
    "dataset_id = \"starr_omop_cdm5_deid_latest\"\n",
    "work_project_id = 'som-nero-egyang-starr' \n",
    "work_dataset_id = 'ilies_explore'"
   ]
  },
  {
   "cell_type": "markdown",
   "id": "d9eab428",
   "metadata": {},
   "source": [
    "## BMI missingness"
   ]
  },
  {
   "cell_type": "code",
   "execution_count": 4,
   "id": "942982e4",
   "metadata": {},
   "outputs": [
    {
     "data": {
      "text/html": [
       "<div>\n",
       "<style scoped>\n",
       "    .dataframe tbody tr th:only-of-type {\n",
       "        vertical-align: middle;\n",
       "    }\n",
       "\n",
       "    .dataframe tbody tr th {\n",
       "        vertical-align: top;\n",
       "    }\n",
       "\n",
       "    .dataframe thead th {\n",
       "        text-align: right;\n",
       "    }\n",
       "</style>\n",
       "<table border=\"1\" class=\"dataframe\">\n",
       "  <thead>\n",
       "    <tr style=\"text-align: right;\">\n",
       "      <th></th>\n",
       "    </tr>\n",
       "  </thead>\n",
       "  <tbody>\n",
       "  </tbody>\n",
       "</table>\n",
       "</div>"
      ],
      "text/plain": [
       "Empty DataFrame\n",
       "Columns: []\n",
       "Index: []"
      ]
     },
     "execution_count": 4,
     "metadata": {},
     "output_type": "execute_result"
    }
   ],
   "source": [
    "query=\"\"\"\n",
    "CREATE OR REPLACE TABLE `{work_project_id}.{work_dataset_id}.person_ids_BMI_30` AS\n",
    "SELECT * FROM\n",
    "((SELECT a.* EXCEPT (PAD, Smoking_status), 1 AS label\n",
    "FROM `{work_project_id}.{work_dataset_id}.Cases_FM_temp_smok` a\n",
    "WHERE a.person_id NOT IN (\n",
    "SELECT *\n",
    "FROM `{work_project_id}.{work_dataset_id}.321052_ids`)\n",
    ")\n",
    "UNION ALL\n",
    "(SELECT a.* EXCEPT (PAD, Smoking_status), 0 AS label\n",
    "FROM `{work_project_id}.{work_dataset_id}.Controls_FM_temp_smok` a ))\n",
    "WHERE BMI = 30\n",
    "\"\"\".format_map({\n",
    "                'project_id': project_id,\n",
    "                'dataset_id': dataset_id,\n",
    "                'work_project_id': work_project_id,\n",
    "                'work_dataset_id': work_dataset_id})\n",
    "df = client.query(query).to_dataframe()\n",
    "df"
   ]
  },
  {
   "cell_type": "code",
   "execution_count": 6,
   "id": "63c7f31d",
   "metadata": {},
   "outputs": [],
   "source": [
    "total = 20031"
   ]
  },
  {
   "cell_type": "code",
   "execution_count": 7,
   "id": "78985b2b",
   "metadata": {},
   "outputs": [],
   "source": [
    "BMI30 = 100"
   ]
  },
  {
   "cell_type": "code",
   "execution_count": 13,
   "id": "55ba3998",
   "metadata": {},
   "outputs": [],
   "source": [
    "BMINULL = 13"
   ]
  },
  {
   "cell_type": "code",
   "execution_count": 14,
   "id": "e7fb4bb0",
   "metadata": {},
   "outputs": [
    {
     "data": {
      "text/plain": [
       "19918"
      ]
     },
     "execution_count": 14,
     "metadata": {},
     "output_type": "execute_result"
    }
   ],
   "source": [
    "total - BMI30 - BMINULL"
   ]
  },
  {
   "cell_type": "code",
   "execution_count": null,
   "id": "f442b293",
   "metadata": {},
   "outputs": [],
   "source": []
  },
  {
   "cell_type": "code",
   "execution_count": null,
   "id": "545da225",
   "metadata": {},
   "outputs": [],
   "source": []
  },
  {
   "cell_type": "code",
   "execution_count": null,
   "id": "5c276a9d",
   "metadata": {},
   "outputs": [],
   "source": []
  },
  {
   "cell_type": "code",
   "execution_count": null,
   "id": "9635e91b",
   "metadata": {},
   "outputs": [],
   "source": []
  },
  {
   "cell_type": "code",
   "execution_count": null,
   "id": "a2e6831a",
   "metadata": {},
   "outputs": [],
   "source": []
  },
  {
   "cell_type": "code",
   "execution_count": null,
   "id": "e7f1400d",
   "metadata": {},
   "outputs": [],
   "source": []
  },
  {
   "cell_type": "code",
   "execution_count": null,
   "id": "ca20e9bc",
   "metadata": {},
   "outputs": [],
   "source": []
  },
  {
   "cell_type": "code",
   "execution_count": null,
   "id": "bad1b7b1",
   "metadata": {},
   "outputs": [],
   "source": []
  },
  {
   "cell_type": "code",
   "execution_count": null,
   "id": "0def5566",
   "metadata": {},
   "outputs": [],
   "source": []
  },
  {
   "cell_type": "code",
   "execution_count": null,
   "id": "bc0c4c1f",
   "metadata": {},
   "outputs": [],
   "source": [
    "fold_num = 1\n",
    "query=\"\"\"\n",
    "(SELECT a.* EXCEPT (PAD, Smoking_status), 1 AS label\n",
    "FROM `{work_project_id}.{work_dataset_id}.Cases_FM_temp_smok` a\n",
    "JOIN `{work_project_id}.{work_dataset_id}.person_ids_cases_sequence_fold_{fold_num}` b\n",
    "ON a.person_id = b.person_id\n",
    "WHERE a.person_id NOT IN (\n",
    "SELECT *\n",
    "FROM `{work_project_id}.{work_dataset_id}.321052_ids`)\n",
    ")\n",
    "UNION ALL\n",
    "(SELECT a.* EXCEPT (PAD, Smoking_status), 0 AS label\n",
    "FROM `{work_project_id}.{work_dataset_id}.Controls_FM_temp_smok` a\n",
    "JOIN `{work_project_id}.{work_dataset_id}.person_ids_controls_sequence_fold_{fold_num}` b\n",
    "ON a.person_id = b.person_id)\n",
    "\"\"\".format_map({\n",
    "                'project_id': project_id,\n",
    "                'dataset_id': dataset_id,\n",
    "                'work_project_id': work_project_id,\n",
    "                'work_dataset_id': work_dataset_id,\n",
    "                'fold_num': fold_num})\n",
    "df = client.query(query).to_dataframe()\n",
    "df"
   ]
  },
  {
   "cell_type": "code",
   "execution_count": null,
   "id": "a2a22718",
   "metadata": {},
   "outputs": [],
   "source": []
  }
 ],
 "metadata": {
  "environment": {
   "name": "tf2-gpu.2-1.m68",
   "type": "gcloud",
   "uri": "gcr.io/deeplearning-platform-release/tf2-gpu.2-1:m68"
  },
  "kernelspec": {
   "display_name": "Python 3",
   "language": "python",
   "name": "python3"
  },
  "language_info": {
   "codemirror_mode": {
    "name": "ipython",
    "version": 3
   },
   "file_extension": ".py",
   "mimetype": "text/x-python",
   "name": "python",
   "nbconvert_exporter": "python",
   "pygments_lexer": "ipython3",
   "version": "3.7.10"
  }
 },
 "nbformat": 4,
 "nbformat_minor": 5
}
